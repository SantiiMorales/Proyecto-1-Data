{
 "cells": [
  {
   "cell_type": "code",
   "execution_count": 18,
   "id": "f67d9f76",
   "metadata": {},
   "outputs": [
    {
     "name": "stdout",
     "output_type": "stream",
     "text": [
      "************************ DATOS DE LA TRANSACCIÓN ***************************\n",
      "Empresa: EjemploCorp\n",
      "Fecha del Reporte: 2024-02-03\n",
      "Número de Sucursal: 12345\n",
      "\n",
      "ID_Transaccion, Fecha, Producto, Cantidad, Precio, Categoria, ID_Cliente, Notas\n",
      "1, 2024-01-20, ProductoA, 5, 10.50, Electrónica, 101, -\n",
      "2, 2024-01-21, ProductoB, 2, 15.75, Ropa, 102, -\n",
      "3, 2024-01-22, ProductoC, 8, 7.20, Hogar, 103, -\n",
      "4, 2024-01-23, ProductoA, 3, 10.50, Electrónica, 104, -\n",
      "5, 2024-01-23, ProductoB, 1, 15.75, Ropa, 105, -\n",
      "6, 2024-01-24, ProductoC, 4, 7.20, Hogar, 106, -\n",
      "7, 2024-01-25, ProductoA, 6, 10.50, Electrónica, 107, -\n",
      "8, 2024-01-25, ProductoB, 3, 15.75, Ropa, 108, -\n",
      "9, 2024-01-26, ProductoC, 2, 7.20, Hogar, 109, -\n",
      "10, 2024-01-27, ProductoA, 4, 10.50, Electrónica, 110, -\n",
      "11, 2024-01-27, ProductoB, 5, 15.75, Ropa, 111, -\n",
      "12, 2024-01-28, ProductoC, 7, 7.20, Hogar, 112, -\n",
      "13, 2024-01-29, ProductoA, 2, 10.50, Electrónica, 113, -\n",
      "14, 2024-01-29, ProductoB, 1, 15.75, Ropa, 114, -\n",
      "15, 2024-01-30, ProductoC, 3, 7.20, Hogar, 115, -\n",
      "16, 2024-01-31, ProductoA, 8, 10.50, Electrónica, 116, -\n",
      "17, 2024-01-31, ProductoB, 4, 15.75, Ropa, 117, -\n",
      "18, 2024-02-01, ProductoC, 5, 7.20, Hogar, 118, -\n",
      "19, 2024-02-02, ProductoA, 3, 10.50, Electrónica, 119, -\n",
      "20, 2024-02-02, ProductoB, 2, 15.75, Ropa, 120, -\n",
      "\n"
     ]
    }
   ],
   "source": [
    "#Definir nuestro archivo a importar\n",
    "filename = \"Transacción de muestra.txt\"\n",
    "\n",
    "data = open(filename, \"r\", encoding = \"utf-8\")\n",
    "read_data = data.read()\n",
    "print(read_data)"
   ]
  },
  {
   "cell_type": "code",
   "execution_count": 19,
   "id": "a3d5dcf7",
   "metadata": {},
   "outputs": [],
   "source": [
    "import pandas as pd\n",
    "\n",
    "def get_transactions_data(strData):\n",
    "    data_array = []\n",
    "    isTransaction = False\n",
    "    for line in strData.split(\"\\n\"):\n",
    "        if \"ID_Transaccion\" in line or isTransaction == True:\n",
    "            isTransaction = True\n",
    "            data_line = line.split(\", \")\n",
    "            data_array.append(data_line)\n",
    "    df = pd.DataFrame(data_array)\n",
    "    df.columns = df.iloc[0]\n",
    "    df = df.drop([0])\n",
    "    df = df.dropna()\n",
    "    df = df.reset_index(drop=True)\n",
    "    return df"
   ]
  },
  {
   "cell_type": "code",
   "execution_count": 20,
   "id": "111a0c07",
   "metadata": {},
   "outputs": [],
   "source": [
    "def get_value_by_keyword(strData, strKeyword):\n",
    "    for line in strData.split(\"\\n\"):\n",
    "        if strKeyword in line:\n",
    "            data_value = line.split(\": \")\n",
    "            value = data_value[1]\n",
    "            break\n",
    "    return value\n",
    "    "
   ]
  },
  {
   "cell_type": "code",
   "execution_count": 21,
   "id": "519ab226",
   "metadata": {},
   "outputs": [],
   "source": [
    "def preliminar_data(strData):\n",
    "    out_dict = {\"Empresa\": \"\", \n",
    "                \"Fecha\": \"\",\n",
    "                \"Sucursal\": \"\",\n",
    "                \"Transacciones\": None\n",
    "               }\n",
    "    out_dict[\"Empresa\"] = get_value_by_keyword(strData, \"Empresa\")\n",
    "    out_dict[\"Fecha\"] = get_value_by_keyword(strData, \"Fecha del Reporte\")\n",
    "    out_dict[\"Sucursal\"] = get_value_by_keyword(strData, \"Número de Sucursal\")\n",
    "    out_dict[\"Transacciones\"] = get_transactions_data(strData)\n",
    "    return out_dict\n",
    "\n",
    "\n"
   ]
  },
  {
   "cell_type": "code",
   "execution_count": 22,
   "id": "a35c7424",
   "metadata": {},
   "outputs": [],
   "source": [
    "#Realizar las Siguientes tareas: \n",
    "#1) Cambiar el nombre de la columna Precio a Precio Unitario\n",
    "#2)Crear una nueva columna llamada total de ventas que sea el total de la cantidad * Precio\n",
    "#3)Obtener el total de venta x cada categoria\n",
    "#4)Crear las columnas mes dia y anho\n",
    "#5)Obtener el producto y fecha con mas venta\n",
    " \n",
    "#6)Graficar el historico de ventas x dia \n",
    "#7)Graficar el numero de productos vendidos x dia \n",
    "#8)Exportar todo a un resumen ejecutivo en excel"
   ]
  },
  {
   "cell_type": "code",
   "execution_count": 23,
   "id": "02557657",
   "metadata": {},
   "outputs": [],
   "source": [
    "def get_data_analysis(df_input):\n",
    "    df = df_input.copy()\n",
    "    df = df.rename(columns={\"Precio\" : 'Precio Unitario'})#1\n",
    "    df[\"Total de Ventas\"]= df[\"Cantidad\"].astype(float) * df[\"Precio Unitario\"].astype(float)#2\n",
    "    df_sales_category  = df.groupby(\"Categoria\").sum(\"Total de Ventas\")#3\n",
    "    df[\"Fecha\"]= pd.to_datetime(df[\"Fecha\"], yearfirst=True)#4\n",
    "    df[\"Mes\"] = df[\"Fecha\"].dt.month\n",
    "    df[\"Dia\"] = df[\"Fecha\"].dt.day\n",
    "    df[\"Ano\"] = df[\"Fecha\"].dt.year\n",
    "    most_sold_index = df[\"Total de Ventas\"].idxmax()\n",
    "    most_sold_product = df.iloc[most_sold_index][\"Producto\"]\n",
    "    most_sold_date = df.iloc[most_sold_index][\"Fecha\"]\n",
    "    \n",
    "    out_dict = {\"data\": df, \n",
    "                \"Sales_by_category\": df_sales_category,\n",
    "                \"Most _sold_info: \": {\"Product:\" : most_sold_product, \"Date:\": most_sold_date}}\n",
    "    \n",
    "    return out_dict\n",
    "\n",
    "\n",
    "\n"
   ]
  },
  {
   "cell_type": "markdown",
   "id": "dc75d132",
   "metadata": {},
   "source": [
    "Graficos"
   ]
  },
  {
   "cell_type": "code",
   "execution_count": 24,
   "id": "1a682004",
   "metadata": {},
   "outputs": [],
   "source": [
    "from matplotlib import pyplot as plt\n",
    "import matplotlib.ticker as FuncFormatter\n",
    "\n",
    "def plot_sales_day(dfi, figname):\n",
    "    df = dfi.copy()\n",
    "    df = df[[\"Fecha\", \"Total de Ventas\"]].groupby('Fecha').sum()\n",
    "    df = df.reset_index()\n",
    "    plt.figure(figsize=(15,5))\n",
    "    plt.plot(df[\"Fecha\"], df[\"Total de Ventas\"], marker='o', color=\"green\")\n",
    "    \n",
    "\n",
    "    plt.grid(True)\n",
    "    plt.xticks(df[\"Fecha\"], rotation=45)\n",
    "    \n",
    "    \n",
    "    plt.savefig(figname)\n",
    "    plt.close()\n",
    "    \n",
    "    return    \n",
    "\n"
   ]
  },
  {
   "cell_type": "code",
   "execution_count": 25,
   "id": "62cc9abd",
   "metadata": {},
   "outputs": [],
   "source": [
    "def sales_by_category(dfi, figname):\n",
    "    df = dfi.copy()\n",
    "    df = df.reset_index()\n",
    "    \n",
    "    plt.title(\"Ventas por categoria\")\n",
    "    \n",
    "    plt.pie(df[\"Total de Ventas\"], labels = df[\"Categoria\"], colors=[\"skyblue\", \"lightgreen\", \"lightcoral\"])\n",
    "    plt.legend(title = \"Categoria\")\n",
    "    plt.savefig(figname)\n",
    "    plt.close()\n",
    "    return \n",
    "\n"
   ]
  },
  {
   "cell_type": "code",
   "execution_count": 26,
   "id": "d40c4f67",
   "metadata": {},
   "outputs": [],
   "source": [
    "#Graficar los productos de menor a mayor ventas\n",
    "\n",
    "def sales_by_product(dfi, figname):\n",
    "    df = dfi.copy()\n",
    "    df = df[[\"Producto\", \"Total de Ventas\"]].groupby('Producto').sum()\n",
    "    df = df.reset_index()\n",
    "    df = df.sort_values(by=\"Total de Ventas\", ascending=True)\n",
    "    \n",
    "    plt.bar(df[\"Producto\"], df[\"Total de Ventas\"], width=0.6, color=\"#6F00FF\")\n",
    "    plt.xlabel(\"Nombre del Producto\")\n",
    "    plt.ylabel(\"Total de Ventas\")   \n",
    "\n",
    "    plt.savefig(figname)\n",
    "    plt.close()\n",
    "    \n",
    "    return\n",
    "    \n"
   ]
  },
  {
   "cell_type": "markdown",
   "id": "08a06060",
   "metadata": {},
   "source": [
    "Reporte Excel\n"
   ]
  },
  {
   "cell_type": "code",
   "execution_count": 27,
   "id": "bc8a9226",
   "metadata": {},
   "outputs": [
    {
     "ename": "TypeError",
     "evalue": "'module' object is not callable",
     "output_type": "error",
     "traceback": [
      "\u001b[1;31m---------------------------------------------------------------------------\u001b[0m",
      "\u001b[1;31mTypeError\u001b[0m                                 Traceback (most recent call last)",
      "Cell \u001b[1;32mIn[27], line 21\u001b[0m\n\u001b[0;32m     16\u001b[0m     ws \u001b[38;5;241m=\u001b[39m wb\u001b[38;5;241m.\u001b[39mworksheets[\u001b[38;5;241m0\u001b[39m]\n\u001b[0;32m     19\u001b[0m     \u001b[38;5;28;01mreturn\u001b[39;00m\n\u001b[1;32m---> 21\u001b[0m \u001b[43mreporte_xls\u001b[49m\u001b[43m(\u001b[49m\u001b[38;5;124;43m\"\u001b[39;49m\u001b[38;5;124;43mTransacción de muestra.txt\u001b[39;49m\u001b[38;5;124;43m\"\u001b[39;49m\u001b[43m)\u001b[49m\n",
      "Cell \u001b[1;32mIn[27], line 15\u001b[0m, in \u001b[0;36mreporte_xls\u001b[1;34m(txt_filename)\u001b[0m\n\u001b[0;32m     13\u001b[0m sales_by_category(analysis[\u001b[38;5;124m\"\u001b[39m\u001b[38;5;124mSales_by_category\u001b[39m\u001b[38;5;124m\"\u001b[39m], \u001b[38;5;124m\"\u001b[39m\u001b[38;5;124m./img/Ventas por Categoria.png\u001b[39m\u001b[38;5;124m\"\u001b[39m)\n\u001b[0;32m     14\u001b[0m \u001b[38;5;66;03m#Reporte excel\u001b[39;00m\n\u001b[1;32m---> 15\u001b[0m wb \u001b[38;5;241m=\u001b[39m \u001b[43mworkbook\u001b[49m\u001b[43m(\u001b[49m\u001b[43m)\u001b[49m\n\u001b[0;32m     16\u001b[0m ws \u001b[38;5;241m=\u001b[39m wb\u001b[38;5;241m.\u001b[39mworksheets[\u001b[38;5;241m0\u001b[39m]\n\u001b[0;32m     19\u001b[0m \u001b[38;5;28;01mreturn\u001b[39;00m\n",
      "\u001b[1;31mTypeError\u001b[0m: 'module' object is not callable"
     ]
    }
   ],
   "source": [
    "import openpyxl\n",
    "from openpyxl import workbook \n",
    "\n",
    "def reporte_xls(txt_filename):\n",
    "    data = open(txt_filename, \"r\", encoding = \"utf-8\")\n",
    "    txt_data = data.read()\n",
    "    preliminar = preliminar_data(read_data)\n",
    "    #Analisis de Datos \n",
    "    analysis = get_data_analysis(preliminar[\"Transacciones\"])\n",
    "    #Graficos\n",
    "    sales_by_product(analysis[\"data\"], \"./img/Ventas por producto.png\")\n",
    "    plot_sales_day(analysis[\"data\"], \"./img/Historico Ventas.png\")\n",
    "    sales_by_category(analysis[\"Sales_by_category\"], \"./img/Ventas por Categoria.png\")\n",
    "    #Reporte excel\n",
    "    wb = workbook()\n",
    "    ws = wb.worksheets[0]\n",
    "    \n",
    "    \n",
    "    return\n",
    "\n",
    "reporte_xls(\"Transacción de muestra.txt\")"
   ]
  },
  {
   "cell_type": "code",
   "execution_count": null,
   "id": "f86fb460",
   "metadata": {},
   "outputs": [],
   "source": []
  }
 ],
 "metadata": {
  "kernelspec": {
   "display_name": "Python 3 (ipykernel)",
   "language": "python",
   "name": "python3"
  },
  "language_info": {
   "codemirror_mode": {
    "name": "ipython",
    "version": 3
   },
   "file_extension": ".py",
   "mimetype": "text/x-python",
   "name": "python",
   "nbconvert_exporter": "python",
   "pygments_lexer": "ipython3",
   "version": "3.12.0"
  }
 },
 "nbformat": 4,
 "nbformat_minor": 5
}
